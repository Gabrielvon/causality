{
 "cells": [
  {
   "cell_type": "markdown",
   "metadata": {},
   "source": [
    "# $d$-separation\n",
    "\n",
    "$d$-separation is a key concept in causal inference. \n",
    "\n",
    "*Why is d-separation important?* I have to answer this question better for myself, as I don't have a good way of putting it in my own words. What I am quite sure of, though, is that checking for $d$-separation is very helpful for finding causal structures."
   ]
  },
  {
   "cell_type": "code",
   "execution_count": 1,
   "metadata": {},
   "outputs": [],
   "source": [
    "import networkx as nx"
   ]
  },
  {
   "cell_type": "markdown",
   "metadata": {},
   "source": [
    "To get into d-separation, we first have to understand paths and blocked paths.\n",
    "\n",
    "One thing that I didn't grok immediately when reading Judea Pearl's book on Causality was that the difference between a path and a causal path. A path is just any undirected connection between variables; a causal path, on the other hand, has to follow the directions on the edges."
   ]
  },
  {
   "cell_type": "code",
   "execution_count": null,
   "metadata": {},
   "outputs": [],
   "source": []
  }
 ],
 "metadata": {
  "kernelspec": {
   "display_name": "causality",
   "language": "python",
   "name": "causality"
  },
  "language_info": {
   "codemirror_mode": {
    "name": "ipython",
    "version": 3
   },
   "file_extension": ".py",
   "mimetype": "text/x-python",
   "name": "python",
   "nbconvert_exporter": "python",
   "pygments_lexer": "ipython3",
   "version": "3.6.5"
  }
 },
 "nbformat": 4,
 "nbformat_minor": 2
}
